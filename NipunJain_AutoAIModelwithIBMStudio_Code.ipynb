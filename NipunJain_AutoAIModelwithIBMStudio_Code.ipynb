{
  "nbformat": 4,
  "nbformat_minor": 0,
  "metadata": {
    "colab": {
      "provenance": []
    },
    "kernelspec": {
      "name": "python3",
      "display_name": "Python 3"
    },
    "language_info": {
      "name": "python"
    }
  },
  "cells": [
    {
      "cell_type": "code",
      "execution_count": null,
      "metadata": {
        "id": "iUQqHA5qf4_5"
      },
      "outputs": [],
      "source": [
        "import requests\n",
        "import json\n",
        "\n",
        "# NOTE: you must manually set API_KEY below using information retrieved from your IBM Cloud account\n",
        "API_KEY = \"cpd-apikey-IBMid-691000AR4Q-2025-07-11T14:54:04Z\"\n",
        "token_response = requests.post('https://iam.cloud.ibm.com/identity/token', data={\"apikey\": API_KEY, \"grant_type\": 'urn:ibm:params:oauth:grant-type:apikey'})\n",
        "mltoken = token_response.json()[\"access_token\"]\n",
        "\n",
        "header = {'Content-Type': 'application/json', 'Authorization': 'Bearer ' + mltoken}\n",
        "\n",
        "# The fields and values have been updated for the Iris dataset.\n",
        "# The Iris dataset has four key features: sepal length, sepal width, petal length, and petal width.\n",
        "payload_scoring = {\"input_data\": [\n",
        "    {\n",
        "        \"fields\": [\"sepal length (cm)\", \"sepal width (cm)\", \"petal length (cm)\", \"petal width (cm)\"],\n",
        "        \"values\": [\n",
        "            # Example values for an Iris-setosa flower\n",
        "            [5.1, 3.5, 1.4, 0.2],\n",
        "            # Example values for an Iris-versicolor flower\n",
        "            [6.0, 2.7, 4.2, 1.3],\n",
        "            # Example values for an Iris-virginica flower\n",
        "            [6.7, 3.3, 5.7, 2.5]\n",
        "        ]\n",
        "    }\n",
        "]}\n",
        "\n",
        "# NOTE: The deployment ID in the URL below is a placeholder. You must replace 'YOUR_IRIS_DEPLOYMENT_ID' with the actual ID of your deployed Iris model.\n",
        "# You can find the correct URL in the 'API Reference' section of your deployment space in IBM Watson Studio.\n",
        "scoring_url = 'https://eu-de.ml.cloud.ibm.com/ml/v4/deployments/YOUR_IRIS_DEPLOYMENT_ID/predictions?version=2021-05-01'\n",
        "\n",
        "response_scoring = requests.post(\n",
        "    scoring_url,\n",
        "    data=json.dumps(payload_scoring),\n",
        "    headers=header\n",
        ")\n",
        "\n",
        "print(\"Scoring response\")\n",
        "try:\n",
        "    print(response_scoring.json())\n",
        "except ValueError:\n",
        "    print(response_scoring.text)\n",
        "except Exception as e:\n",
        "    print(f\"An unexpected error occurred: {e}\")"
      ]
    }
  ]
}